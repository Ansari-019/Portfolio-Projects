{
  "nbformat": 4,
  "nbformat_minor": 0,
  "metadata": {
    "colab": {
      "provenance": [],
      "include_colab_link": true
    },
    "kernelspec": {
      "name": "python3",
      "display_name": "Python 3"
    },
    "language_info": {
      "name": "python"
    }
  },
  "cells": [
    {
      "cell_type": "markdown",
      "metadata": {
        "id": "view-in-github",
        "colab_type": "text"
      },
      "source": [
        "<a href=\"https://colab.research.google.com/github/SoftwareEngineer-19/Portfolio-Projects/blob/main/web_scraper.ipynb\" target=\"_parent\"><img src=\"https://colab.research.google.com/assets/colab-badge.svg\" alt=\"Open In Colab\"/></a>"
      ]
    },
    {
      "cell_type": "code",
      "execution_count": null,
      "metadata": {
        "id": "7u-59bk00PwB"
      },
      "outputs": [],
      "source": [
        "import requests\n",
        "from bs4 import BeautifulSoup"
      ]
    },
    {
      "cell_type": "code",
      "source": [
        "# Step 1: Retrieve the HTML content of the subreddit\n",
        "url = \"https://www.greenbiz.com/events\"\n",
        "response = requests.get(url)\n",
        "html_content = response.text\n"
      ],
      "metadata": {
        "id": "DNcotpAL0TMo"
      },
      "execution_count": null,
      "outputs": []
    },
    {
      "cell_type": "code",
      "source": [
        "# Step 2: Parse the HTML content and extract the titles and URLs of the top 10 posts\n",
        "soup = BeautifulSoup(html_content, \"html.parser\")\n",
        "\n",
        "# TODO: Write code here to extract the Event Name, Date and Venue\n"
      ],
      "metadata": {
        "id": "K1vxjdxd0ZRZ"
      },
      "execution_count": null,
      "outputs": []
    }
  ]
}